{
 "cells": [
  {
   "cell_type": "code",
   "execution_count": 14,
   "id": "fb9e5037",
   "metadata": {},
   "outputs": [],
   "source": [
    "import math\n",
    "import pandas as pd\n",
    "import numpy as np\n",
    "import matplotlib.pyplot as plt\n",
    "from scipy.stats.distributions import norm"
   ]
  },
  {
   "cell_type": "code",
   "execution_count": 70,
   "id": "213e81dd",
   "metadata": {},
   "outputs": [
    {
     "name": "stdout",
     "output_type": "stream",
     "text": [
      "-0.0\n",
      "4.707302226484972\n",
      "Index(['SNCAIP', 'CYTH4', 'MTHFD1L', 'TNFRSF10B', 'CDCA7', 'CBX2', 'HPDL',\n",
      "       'ERCC6L', 'LAMTOR4', 'PRSS50', 'RNF212B', 'HIST2H2AA4'],\n",
      "      dtype='object')\n"
     ]
    }
   ],
   "source": [
    "control = pd.read_csv('../PROCESSED_DATA/control_norm.csv', header = 0, index_col = 0)\n",
    "rsv = pd.read_csv('../PROCESSED_DATA/rsv_norm.csv', header = 0, index_col = 0)\n",
    "\n",
    "genes = control.index\n",
    "\n",
    "con_mean = control.mean(axis = 1)\n",
    "rsv_mean = rsv.mean(axis = 1)\n",
    "\n",
    "con_var = control.var(axis = 1)\n",
    "rsv_var = rsv.var(axis = 1)\n",
    "\n",
    "con_n = len(control.columns)\n",
    "rsv_n = len(rsv.columns)\n",
    "\n",
    "Z = (con_mean - rsv_mean) / np.sqrt(con_var / con_n + rsv_var / rsv_n)\n",
    "p_values = norm.sf(abs(Z))\n",
    "\n",
    "print(log_p)\n",
    "\n",
    "Z_th = -norm.ppf(0.025 / Z.shape[0])\n",
    "p_th = norm.sf(abs(Z))\n",
    "\n",
    "sig_Z = Z[Z.abs() > Z_th]\n",
    "sig_p = p_values[p_values < p_th]\n",
    "sig_genes = sig_Z.index\n",
    "\n",
    "print(Z_th)\n",
    "#print(sig_Z)\n",
    "#print(sig_p)\n",
    "print(sig_genes)"
   ]
  },
  {
   "cell_type": "code",
   "execution_count": null,
   "id": "d68f77da",
   "metadata": {},
   "outputs": [],
   "source": []
  }
 ],
 "metadata": {
  "kernelspec": {
   "display_name": "Python 3 (ipykernel)",
   "language": "python",
   "name": "python3"
  },
  "language_info": {
   "codemirror_mode": {
    "name": "ipython",
    "version": 3
   },
   "file_extension": ".py",
   "mimetype": "text/x-python",
   "name": "python",
   "nbconvert_exporter": "python",
   "pygments_lexer": "ipython3",
   "version": "3.9.13"
  }
 },
 "nbformat": 4,
 "nbformat_minor": 5
}
